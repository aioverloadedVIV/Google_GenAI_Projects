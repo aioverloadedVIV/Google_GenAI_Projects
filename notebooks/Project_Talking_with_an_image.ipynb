{
 "cells": [
  {
   "cell_type": "markdown",
   "id": "e45ea153",
   "metadata": {},
   "source": [
    "## Project: Talking with an Image\n",
    "\n",
    "- Takes an Image as an Input.\n",
    "\n",
    "- Start to talk with the Image using Prompt\n",
    "\n",
    "- Quick Prototyping of this program using Streamlit.\n",
    "\n",
    "- Backend: ~gemini-pro-latest~ API"
   ]
  },
  {
   "cell_type": "markdown",
   "id": "3c07f9b1",
   "metadata": {},
   "source": [
    "### Loading the Packages"
   ]
  },
  {
   "cell_type": "code",
   "execution_count": 1,
   "id": "5627e9e7",
   "metadata": {},
   "outputs": [],
   "source": [
    "import google.generativeai as genai\n",
    "import os\n",
    "import streamlit\n",
    "\n",
    "# Fetch the API key from env file\n",
    "from dotenv import load_dotenv, find_dotenv\n",
    "load_dotenv(find_dotenv(), override=True)\n",
    "\n",
    "# Setting the API key\n",
    "genai.configure(api_key=os.environ.get(\"GOOGLE_API_KEY\"))\n",
    "\n",
    "# Set the Model\n",
    "model = genai.GenerativeModel(model_name=\"gemini-pro-latest\")"
   ]
  },
  {
   "cell_type": "code",
   "execution_count": null,
   "id": "f98c355c",
   "metadata": {},
   "outputs": [],
   "source": []
  },
  {
   "cell_type": "code",
   "execution_count": null,
   "id": "d59c3649",
   "metadata": {},
   "outputs": [],
   "source": []
  },
  {
   "cell_type": "code",
   "execution_count": null,
   "id": "380b1b27",
   "metadata": {},
   "outputs": [],
   "source": []
  },
  {
   "cell_type": "code",
   "execution_count": null,
   "id": "afffdebb",
   "metadata": {},
   "outputs": [],
   "source": []
  },
  {
   "cell_type": "code",
   "execution_count": null,
   "id": "5456ece9",
   "metadata": {},
   "outputs": [],
   "source": []
  },
  {
   "cell_type": "code",
   "execution_count": null,
   "id": "1b6fd5fd",
   "metadata": {},
   "outputs": [],
   "source": []
  },
  {
   "cell_type": "code",
   "execution_count": null,
   "id": "fb802493",
   "metadata": {},
   "outputs": [],
   "source": []
  },
  {
   "cell_type": "code",
   "execution_count": null,
   "id": "790fa2fd",
   "metadata": {},
   "outputs": [],
   "source": []
  },
  {
   "cell_type": "code",
   "execution_count": null,
   "id": "b3e69919",
   "metadata": {},
   "outputs": [],
   "source": []
  }
 ],
 "metadata": {
  "kernelspec": {
   "display_name": "llm (3.12.4)",
   "language": "python",
   "name": "python3"
  },
  "language_info": {
   "codemirror_mode": {
    "name": "ipython",
    "version": 3
   },
   "file_extension": ".py",
   "mimetype": "text/x-python",
   "name": "python",
   "nbconvert_exporter": "python",
   "pygments_lexer": "ipython3",
   "version": "3.12.4"
  }
 },
 "nbformat": 4,
 "nbformat_minor": 5
}
