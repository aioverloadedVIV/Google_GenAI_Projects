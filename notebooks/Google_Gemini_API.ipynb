{
 "cells": [
  {
   "cell_type": "markdown",
   "id": "712e8fc2",
   "metadata": {},
   "source": [
    "## Diving into Google’s Gemini API"
   ]
  },
  {
   "cell_type": "markdown",
   "id": "ad8e75fe",
   "metadata": {},
   "source": [
    "### Get Google's Gemini API in VSCode\n"
   ]
  },
  {
   "cell_type": "code",
   "execution_count": null,
   "id": "9475efbc",
   "metadata": {},
   "outputs": [],
   "source": [
    "# pip install --upgrade google-generativeai "
   ]
  },
  {
   "cell_type": "code",
   "execution_count": null,
   "id": "02f33cf1",
   "metadata": {},
   "outputs": [
    {
     "name": "stdout",
     "output_type": "stream",
     "text": [
      "\u001b[33mWARNING: Package(s) not found: google-geneativeai\u001b[0m\u001b[33m\n",
      "\u001b[0mNote: you may need to restart the kernel to use updated packages.\n"
     ]
    }
   ],
   "source": [
    "#pip show google-geneativeai\n",
    "\n",
    "\"\"\"\n",
    "Name: google-generativeai\n",
    "Version: 0.8.5\n",
    "Summary: Google Generative AI High level API client library and tools.\n",
    "Home-page: https://github.com/google/generative-ai-python\n",
    "Author: Google LLC\n",
    "Author-email: googleapis-packages@google.com\n",
    "License: Apache 2.0\n",
    "Location: /Users/viv/Generative AII/llm/lib/python3.12/site-packages\n",
    "Requires: google-ai-generativelanguage, google-api-core, google-api-python-client, google-auth, protobuf, pydantic, tqdm, typing-extensions\n",
    "\n",
    "\"\"\""
   ]
  },
  {
   "cell_type": "markdown",
   "id": "50ff6668",
   "metadata": {},
   "source": [
    "### Loading Google's API Key - Global Setup"
   ]
  },
  {
   "cell_type": "code",
   "execution_count": 2,
   "id": "60de5c5d",
   "metadata": {},
   "outputs": [],
   "source": [
    "import os"
   ]
  },
  {
   "cell_type": "markdown",
   "id": "c2801be8",
   "metadata": {},
   "source": [
    "### Import the Libraries"
   ]
  },
  {
   "cell_type": "code",
   "execution_count": 5,
   "id": "795615a9",
   "metadata": {},
   "outputs": [
    {
     "name": "stdout",
     "output_type": "stream",
     "text": [
      "Print genai version: 0.8.5\n"
     ]
    }
   ],
   "source": [
    "import tqdm as notebook_tqdm\n",
    "import google.generativeai as genai\n",
    "print(f\"Print genai version: {genai.__version__}\")"
   ]
  },
  {
   "cell_type": "markdown",
   "id": "9db86c98",
   "metadata": {},
   "source": [
    "### Note: The Google library is more complex and has multiple authentication methods. The google.generativeai library needs the key to be explicitly set. \n",
    "\n",
    "-  Install python-dotenv\n",
    "\n",
    "- Create a .env file (Create a .env file in your project's root directory. This file should contain API keys without the export keyword like: OPENAI_API_KEY='my openai key here'\n",
    "HF_TOKEN='my hf token here'\n",
    "GOOGLE_API_KEY='my google key here')\n",
    "\n",
    "- This .env file is hidden by default in macOS so unhide it to check.\n",
    "\n"
   ]
  },
  {
   "cell_type": "markdown",
   "id": "a929c57f",
   "metadata": {},
   "source": [
    "#### Loading the Google's API Key using dotenv"
   ]
  },
  {
   "cell_type": "code",
   "execution_count": 6,
   "id": "a9a18708",
   "metadata": {},
   "outputs": [
    {
     "data": {
      "text/plain": [
       "True"
      ]
     },
     "execution_count": 6,
     "metadata": {},
     "output_type": "execute_result"
    }
   ],
   "source": [
    "from dotenv import load_dotenv, find_dotenv\n",
    "load_dotenv(find_dotenv(), override=True)\n",
    "\n",
    "# load_dotenv() -> Loads environment variables into our current IDE (VSCode)\n",
    "# find_dotenv() -> Automatically searches for .env file inside the directory"
   ]
  },
  {
   "cell_type": "code",
   "execution_count": null,
   "id": "e7e34808",
   "metadata": {},
   "outputs": [
    {
     "name": "stdout",
     "output_type": "stream",
     "text": [
      "Google API Key Set\n"
     ]
    }
   ],
   "source": [
    "genai.configure(api_key=os.environ.get(\"GOOGLE_API_KEY\"))\n",
    "print(\"Google API Key Set\")"
   ]
  },
  {
   "cell_type": "code",
   "execution_count": 22,
   "id": "1f69103e",
   "metadata": {},
   "outputs": [
    {
     "name": "stderr",
     "output_type": "stream",
     "text": [
      "WARNING: All log messages before absl::InitializeLog() is called are written to STDERR\n",
      "E0000 00:00:1759508810.487198  407353 alts_credentials.cc:93] ALTS creds ignored. Not running on GCP and untrusted ALTS is not enabled.\n"
     ]
    },
    {
     "name": "stdout",
     "output_type": "stream",
     "text": [
      "models/embedding-gecko-001\n",
      "models/gemini-2.5-pro-preview-03-25\n",
      "models/gemini-2.5-flash-preview-05-20\n",
      "models/gemini-2.5-flash\n",
      "models/gemini-2.5-flash-lite-preview-06-17\n",
      "models/gemini-2.5-pro-preview-05-06\n",
      "models/gemini-2.5-pro-preview-06-05\n",
      "models/gemini-2.5-pro\n",
      "models/gemini-2.0-flash-exp\n",
      "models/gemini-2.0-flash\n",
      "models/gemini-2.0-flash-001\n",
      "models/gemini-2.0-flash-exp-image-generation\n",
      "models/gemini-2.0-flash-lite-001\n",
      "models/gemini-2.0-flash-lite\n",
      "models/gemini-2.0-flash-preview-image-generation\n",
      "models/gemini-2.0-flash-lite-preview-02-05\n",
      "models/gemini-2.0-flash-lite-preview\n",
      "models/gemini-2.0-pro-exp\n",
      "models/gemini-2.0-pro-exp-02-05\n",
      "models/gemini-exp-1206\n",
      "models/gemini-2.0-flash-thinking-exp-01-21\n",
      "models/gemini-2.0-flash-thinking-exp\n",
      "models/gemini-2.0-flash-thinking-exp-1219\n",
      "models/gemini-2.5-flash-preview-tts\n",
      "models/gemini-2.5-pro-preview-tts\n",
      "models/learnlm-2.0-flash-experimental\n",
      "models/gemma-3-1b-it\n",
      "models/gemma-3-4b-it\n",
      "models/gemma-3-12b-it\n",
      "models/gemma-3-27b-it\n",
      "models/gemma-3n-e4b-it\n",
      "models/gemma-3n-e2b-it\n",
      "models/gemini-flash-latest\n",
      "models/gemini-flash-lite-latest\n",
      "models/gemini-pro-latest\n",
      "models/gemini-2.5-flash-lite\n",
      "models/gemini-2.5-flash-image-preview\n",
      "models/gemini-2.5-flash-image\n",
      "models/gemini-2.5-flash-preview-09-2025\n",
      "models/gemini-2.5-flash-lite-preview-09-2025\n",
      "models/gemini-robotics-er-1.5-preview\n",
      "models/embedding-001\n",
      "models/text-embedding-004\n",
      "models/gemini-embedding-exp-03-07\n",
      "models/gemini-embedding-exp\n",
      "models/gemini-embedding-001\n",
      "models/aqa\n",
      "models/imagen-3.0-generate-002\n",
      "models/imagen-4.0-generate-preview-06-06\n",
      "models/imagen-4.0-ultra-generate-preview-06-06\n",
      "models/imagen-4.0-generate-001\n",
      "models/imagen-4.0-ultra-generate-001\n",
      "models/imagen-4.0-fast-generate-001\n",
      "models/veo-2.0-generate-001\n",
      "models/veo-3.0-generate-preview\n",
      "models/veo-3.0-fast-generate-preview\n",
      "models/veo-3.0-generate-001\n",
      "models/veo-3.0-fast-generate-001\n",
      "models/gemini-2.5-flash-preview-native-audio-dialog\n",
      "models/gemini-2.5-flash-exp-native-audio-thinking-dialog\n",
      "models/gemini-2.0-flash-live-001\n",
      "models/gemini-live-2.5-flash-preview\n",
      "models/gemini-2.5-flash-live-preview\n",
      "models/gemini-2.5-flash-native-audio-latest\n",
      "models/gemini-2.5-flash-native-audio-preview-09-2025\n"
     ]
    }
   ],
   "source": [
    "# To configure and check the working of genai api key and the list of all the api models provided\n",
    "for model in genai.list_models():\n",
    "    print(model.name)"
   ]
  },
  {
   "cell_type": "markdown",
   "id": "50fc244f",
   "metadata": {},
   "source": [
    "#### Generating Text From Text Prompts"
   ]
  },
  {
   "cell_type": "code",
   "execution_count": null,
   "id": "4ef26840",
   "metadata": {},
   "outputs": [
    {
     "name": "stderr",
     "output_type": "stream",
     "text": [
      "WARNING: All log messages before absl::InitializeLog() is called are written to STDERR\n",
      "E0000 00:00:1759517485.401524  615797 alts_credentials.cc:93] ALTS creds ignored. Not running on GCP and untrusted ALTS is not enabled.\n"
     ]
    },
    {
     "name": "stdout",
     "output_type": "stream",
     "text": [
      "Here are four pointers to explain Hip Hop to a 10-year-old boy:\n",
      "\n",
      "1.  **It's a super cool type of music and culture!** Imagine someone telling an awesome story or sharing their thoughts by rhyming words really fast over exciting beats – that's called **rapping** (or MCing!). The music often has a strong, catchy rhythm that makes you want to move.\n",
      "\n",
      "2.  **It started in New York City a long time ago, in the 1970s.** Kids and teenagers in a neighborhood called the Bronx created Hip Hop as a fun way to throw parties, dance, and express themselves when they didn't have many other things to do. It was all about having a good time and being creative!\n",
      "\n",
      "3.  **Hip Hop isn't just rapping; it has four main parts:**\n",
      "    *   **DJing:** The person who plays and mixes all the cool music and beats.\n",
      "    *   **MCing:** The rapper who rhymes the words and tells stories.\n",
      "    *   **B-boying/B-girling (Breakdancing):** Amazing dancers who do acrobatic moves on the floor.\n",
      "    *   **Graffiti Art:** Cool, colorful art often drawn on walls with unique letters and pictures.\n",
      "\n",
      "4.  **At its heart, Hip Hop is all about being creative, speaking your mind, and showing off your unique style.** It's a way for people to share their stories, connect with others, and celebrate their culture, all with tons of energy and fun!\n"
     ]
    }
   ],
   "source": [
    "# Importing Packages\n",
    "from google import generativeai as genai\n",
    "import os\n",
    "from dotenv import find_dotenv, load_dotenv\n",
    "\n",
    "# Setting up the dotenv for api files\n",
    "load_dotenv(find_dotenv(), override=True)\n",
    "\n",
    "# Call the API Key\n",
    "google_api_key = os.environ.get(\"GOOGLE_API_KEY\")\n",
    "genai.configure(api_key=google_api_key)\n",
    "\n",
    "# Selecting the Model\n",
    "model = genai.GenerativeModel(model_name=\"gemini-2.5-flash\")\n",
    "\n",
    "# Generating Content\n",
    "response = model.generate_content(\"Explain Hip Hop to a 10 Year Old Boy in 4 pointers\")\n",
    "\n",
    "print(response.text)\n",
    "\n",
    "# To hide the warning - E0000 00:00:1759515792.091781  407353 alts_credentials.cc:93] ALTS creds ignored. Not running on GCP and untrusted ALTS is not enabled.\n",
    "#import logging\n",
    "#logging.getLogger(\"grpc\").setLevel(logging.ERROR)"
   ]
  },
  {
   "cell_type": "code",
   "execution_count": null,
   "id": "692f129f",
   "metadata": {},
   "outputs": [
    {
     "name": "stderr",
     "output_type": "stream",
     "text": [
      "E0000 00:00:1759517562.593167  615797 alts_credentials.cc:93] ALTS creds ignored. Not running on GCP and untrusted ALTS is not enabled.\n"
     ]
    },
    {
     "name": "stdout",
     "output_type": "stream",
     "text": [
      "Model(name='models/gemini-2.5-flash',\n",
      "      base_model_id='',\n",
      "      version='001',\n",
      "      display_name='Gemini 2.5 Flash',\n",
      "      description=('Stable version of Gemini 2.5 Flash, our mid-size multimodal model that '\n",
      "                   'supports up to 1 million tokens, released in June of 2025.'),\n",
      "      input_token_limit=1048576,\n",
      "      output_token_limit=65536,\n",
      "      supported_generation_methods=['generateContent',\n",
      "                                    'countTokens',\n",
      "                                    'createCachedContent',\n",
      "                                    'batchGenerateContent'],\n",
      "      temperature=1.0,\n",
      "      max_temperature=2.0,\n",
      "      top_p=0.95,\n",
      "      top_k=64)\n"
     ]
    }
   ],
   "source": [
    "# To get model information that we used above\n",
    "model_info = genai.get_model(\"models/gemini-2.5-flash\")\n",
    "print(model_info)"
   ]
  },
  {
   "cell_type": "markdown",
   "id": "cb5ecb8d",
   "metadata": {},
   "source": [
    "### Streaming Gemini Responses"
   ]
  },
  {
   "cell_type": "code",
   "execution_count": null,
   "id": "0131e3f6",
   "metadata": {},
   "outputs": [
    {
     "name": "stderr",
     "output_type": "stream",
     "text": [
      "E0000 00:00:1759521629.219186  615797 alts_credentials.cc:93] ALTS creds ignored. Not running on GCP and untrusted ALTS is not enabled.\n",
      "E0000 00:00:1759521629.416901  615797 alts_credentials.cc:93] ALTS creds ignored. Not running on GCP and untrusted ALTS is not enabled.\n"
     ]
    }
   ],
   "source": [
    "from google import generativeai as genai\n",
    "import os\n",
    "import tqdm\n",
    "\n",
    "# Find the API Key\n",
    "from dotenv import load_dotenv, find_dotenv\n",
    "load_dotenv(find_dotenv(), override=True)\n",
    "\n",
    "# Load the API Key\n",
    "genai.configure(api_key=os.environ.get(\"GOOGLE_API_KEY\"))\n",
    "\n",
    "# Select the Model\n",
    "model = genai.GenerativeModel(model_name=\"gemini-2.5-flash\")\n",
    "\n",
    "# View the Model Info\n",
    "model_info = genai.get_model(\"gemini-2.5-flash\")\n",
    "# print model_info\n",
    "\n",
    "# Input Prompt to check streaming responses\n",
    "prompt = \"\"\"Explain the history of Hip Hop culture in detail. Break it into 5 sections: \n",
    "1. Origins \n",
    "2. DJs and MCs \n",
    "3. Breakdancing \n",
    "4. Graffiti \n",
    "5. Global Influence. \n",
    "Write it in a storytelling style with examples, at least 3-4 sentences per section.\n",
    "\"\"\"\n",
    "\n",
    "# Output with stream=True\n",
    "response = model.generate_content(prompt, stream=True)  \n",
    "print(response) # to view full output at once, may take some time to fully load"
   ]
  },
  {
   "cell_type": "code",
   "execution_count": null,
   "id": "99326f98",
   "metadata": {},
   "outputs": [
    {
     "name": "stdout",
     "output_type": "stream",
     "text": [
      "The story of Hip Hop culture is a vibrant testament to human creativity and resilience, born from the crucible of urban struggle and radiating outward to touch every corner of the globe. It's a tale of innovation, self-expression, and community, told----------------------------------------------------------------------------------------------------\n",
      " through beats, rhymes, moves, and art.\n",
      "\n",
      "### 1. Origins\n",
      "\n",
      "Our journey begins in the burnt-out, neglected boroughs of the Bronx, New York City, during the 1970s. This was a----------------------------------------------------------------------------------------------------\n",
      " time of immense social and economic hardship, where urban decay, poverty, and gang violence painted a grim backdrop for the youth. Amidst this turmoil, block parties emerged as crucial havens, offering an escape and a sense of community for young people seeking----------------------------------------------------------------------------------------------------\n",
      " joy and connection. It was at one such \"Back to School Jam\" on August 11, 1973, hosted by a Jamaican-American immigrant named Clive Campbell, better known as DJ Kool Herc, that the seeds of----------------------------------------------------------------------------------------------------\n",
      " Hip Hop were arguably first sown, igniting a cultural revolution from the streets upward.\n",
      "\n",
      "### 2. DJs and MCs\n",
      "\n",
      "DJ Kool Herc’s ingenious innovation was the \"merry-go-round\" technique, where he isolated----------------------------------------------------------------------------------------------------\n",
      " and extended the most danceable, percussive instrumental sections of records—the \"breaks\"—by using two turntables. This simple yet revolutionary act provided the rhythmic foundation for an entire culture, allowing dancers to truly let loose. Soon, other pioneers----------------------------------------------------------------------------------------------------\n",
      " like Grandmaster Flash perfected techniques such as scratching and punch-phrasing, turning the turntable into a musical instrument itself, while Afrika Bambaataa expanded the sonic palette and vision of Hip Hop. Over these captivating breakbeats, the role----------------------------------------------------------------------------------------------------\n",
      " of the MC evolved from simply hyping up the crowd with shout-outs and call-and-response chants to crafting intricate rhymes, as exemplified by early groups like The Sugarhill Gang with their groundbreaking track \"Rapper's Delight,\"----------------------------------------------------------------------------------------------------\n",
      " transforming the spoken word into a powerful lyrical art form.\n",
      "\n",
      "### 3. Breakdancing\n",
      "\n",
      "Directly fueled by the extended breakbeats created by the pioneering DJs, a dynamic new dance form exploded onto the scene: breakdancing, or B----------------------------------------------------------------------------------------------------\n",
      "-boying/B-girling. These incredibly athletic and acrobatic dancers, often referred to as \"B-boys\" and \"B-girls\" (short for \"break-boys\" and \"break-girls\" because they danced to the----------------------------------------------------------------------------------------------------\n",
      " breaks), engaged in competitive battles that transformed street rivalries into artistic showdowns. Their intricate moves, including top-rocking (upright dancing), down-rocking (floor work), power moves like windmills and head spins, and dramatic----------------------------------------------------------------------------------------------------\n",
      " freezes, became a mesmerizing visual representation of Hip Hop's energy. Crews like the legendary Rock Steady Crew showcased the raw talent and innovation of these street dancers, providing a positive outlet for creative expression and a powerful alternative to gang violence.\n",
      "\n",
      "### 4----------------------------------------------------------------------------------------------------\n",
      ". Graffiti\n",
      "\n",
      "Parallel to the auditory and kinetic elements, graffiti art emerged as Hip Hop's vibrant visual language, transforming the concrete canvases of the city into personal galleries. Young artists, armed with spray cans, initially \"tagged\" their names----------------------------------------------------------------------------------------------------\n",
      " on subway trains and walls as a means of gaining recognition and asserting their presence in a world that often overlooked them. Over time, these simple tags evolved into elaborate \"wildstyle\" pieces—complex, interlocking letters adorned with vibrant colors, intricate----------------------------------------------------------------------------------------------------\n",
      " details, and dynamic characters, demanding immense skill and creativity. Graffiti artists like PHASE 2 and DONDI turned subway cars into moving murals, making a bold statement against urban decay and reclaiming public spaces through breathtaking, often illicit, urban artistry.\n",
      "\n",
      "### ----------------------------------------------------------------------------------------------------\n",
      "5. Global Influence\n",
      "\n",
      "From its humble beginnings in the Bronx, Hip Hop rapidly transcended its geographic and cultural boundaries, propelled by media like movies such as *Wild Style* and *Beat Street*, music videos, and touring artists. It quickly spread----------------------------------------------------------------------------------------------------\n",
      " across the United States and then exploded onto the international stage, finding fertile ground in communities worldwide. The core elements of Hip Hop—rap music, DJing, breakdancing, and graffiti—proved incredibly adaptable, allowing local cultures to infuse it----------------------------------------------------------------------------------------------------\n",
      " with their unique struggles, languages, and identities, fostering vibrant scenes in places like France, Japan, and Germany. Today, Hip Hop is not just a music genre but a global cultural force, influencing fashion, language, politics, and art,----------------------------------------------------------------------------------------------------\n",
      " while consistently evolving and maintaining its fundamental spirit of self-expression, community, and innovation.----------------------------------------------------------------------------------------------------\n"
     ]
    }
   ],
   "source": [
    "# To view the response in chunks or real time streaming\n",
    "for chunk in response:\n",
    "    print(chunk.text, end='')\n",
    "    print(\"-\"*100) # where dashes shows where it kind of streams and shows mini chunks of responses loaded."
   ]
  },
  {
   "cell_type": "code",
   "execution_count": null,
   "id": "36d93da7",
   "metadata": {},
   "outputs": [],
   "source": []
  },
  {
   "cell_type": "code",
   "execution_count": null,
   "id": "8e6a0638",
   "metadata": {},
   "outputs": [],
   "source": []
  },
  {
   "cell_type": "code",
   "execution_count": null,
   "id": "024e2275",
   "metadata": {},
   "outputs": [],
   "source": []
  },
  {
   "cell_type": "code",
   "execution_count": null,
   "id": "e79d6340",
   "metadata": {},
   "outputs": [],
   "source": []
  },
  {
   "cell_type": "code",
   "execution_count": null,
   "id": "727a134c",
   "metadata": {},
   "outputs": [],
   "source": []
  },
  {
   "cell_type": "code",
   "execution_count": null,
   "id": "73ca88d7",
   "metadata": {},
   "outputs": [],
   "source": []
  },
  {
   "cell_type": "code",
   "execution_count": null,
   "id": "ba5527a5",
   "metadata": {},
   "outputs": [],
   "source": []
  },
  {
   "cell_type": "code",
   "execution_count": null,
   "id": "de50be6d",
   "metadata": {},
   "outputs": [],
   "source": []
  },
  {
   "cell_type": "code",
   "execution_count": null,
   "id": "d1b29ffb",
   "metadata": {},
   "outputs": [],
   "source": []
  },
  {
   "cell_type": "code",
   "execution_count": null,
   "id": "03e43fc4",
   "metadata": {},
   "outputs": [],
   "source": []
  },
  {
   "cell_type": "code",
   "execution_count": null,
   "id": "a180980c",
   "metadata": {},
   "outputs": [],
   "source": []
  },
  {
   "cell_type": "code",
   "execution_count": null,
   "id": "db98fa64",
   "metadata": {},
   "outputs": [],
   "source": []
  },
  {
   "cell_type": "code",
   "execution_count": null,
   "id": "3ac82f2a",
   "metadata": {},
   "outputs": [],
   "source": []
  },
  {
   "cell_type": "code",
   "execution_count": null,
   "id": "857007a3",
   "metadata": {},
   "outputs": [],
   "source": []
  },
  {
   "cell_type": "code",
   "execution_count": null,
   "id": "0732e508",
   "metadata": {},
   "outputs": [],
   "source": []
  },
  {
   "cell_type": "code",
   "execution_count": null,
   "id": "9ea836d2",
   "metadata": {},
   "outputs": [],
   "source": []
  },
  {
   "cell_type": "code",
   "execution_count": null,
   "id": "aca3f517",
   "metadata": {},
   "outputs": [],
   "source": []
  },
  {
   "cell_type": "code",
   "execution_count": null,
   "id": "8b633c1f",
   "metadata": {},
   "outputs": [],
   "source": []
  },
  {
   "cell_type": "code",
   "execution_count": null,
   "id": "33714af8",
   "metadata": {},
   "outputs": [],
   "source": []
  },
  {
   "cell_type": "code",
   "execution_count": null,
   "id": "937181ef",
   "metadata": {},
   "outputs": [],
   "source": []
  },
  {
   "cell_type": "code",
   "execution_count": null,
   "id": "fbba217d",
   "metadata": {},
   "outputs": [],
   "source": []
  }
 ],
 "metadata": {
  "kernelspec": {
   "display_name": "llm (3.12.4)",
   "language": "python",
   "name": "python3"
  },
  "language_info": {
   "codemirror_mode": {
    "name": "ipython",
    "version": 3
   },
   "file_extension": ".py",
   "mimetype": "text/x-python",
   "name": "python",
   "nbconvert_exporter": "python",
   "pygments_lexer": "ipython3",
   "version": "3.12.4"
  }
 },
 "nbformat": 4,
 "nbformat_minor": 5
}
